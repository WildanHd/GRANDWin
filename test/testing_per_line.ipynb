{
 "cells": [
  {
   "cell_type": "code",
   "execution_count": 1,
   "id": "fffd2055",
   "metadata": {},
   "outputs": [],
   "source": [
    "import pandas as pd\n",
    "import numpy as np\n",
    "import datetime as dt\n",
    "import h5py\n",
    "import math as ma\n",
    "from astropy.io import fits\n",
    "from astropy.time import Time\n",
    "from matplotlib import pyplot as plt\n",
    "from matplotlib.axis import Axis\n",
    "from pyuvdata import UVData\n",
    "import matplotlib as mpl"
   ]
  },
  {
   "cell_type": "code",
   "execution_count": 2,
   "id": "d51548e6",
   "metadata": {},
   "outputs": [],
   "source": [
    "df = pd.read_csv(\"/Users/eormacstudio/Documents/GitHub/GRANDWin/data/raw/observation_id/observation_id.csv\", header=0, engine='python')\n",
    "df['date'] = df.starttime_utc.apply(lambda x: dt.datetime.strptime(x, \"%Y-%m-%dT%H:%M:%S.000Z\").date())\n",
    "df['date_time'] = df.starttime_utc.apply(lambda x: dt.datetime.strptime(x, \"%Y-%m-%dT%H:%M:%S.000Z\"))\n",
    "df['partition'] = pd.factorize(df['date'])[0] + 1\n",
    "df = df[df['partition'] == 1].reset_index(drop=True)"
   ]
  },
  {
   "cell_type": "markdown",
   "id": "a8437ef7",
   "metadata": {},
   "source": [
    "---"
   ]
  },
  {
   "cell_type": "markdown",
   "id": "11089e1f",
   "metadata": {},
   "source": [
    "#### Checking the results normal vs faster algorithm"
   ]
  },
  {
   "cell_type": "code",
   "execution_count": null,
   "id": "d77c457d",
   "metadata": {},
   "outputs": [],
   "source": [
    "df_sel_rfi_fast = pd.DataFrame()\n",
    "transform_tb = np.repeat(np.arange(0,14,1), 4)\n",
    "\n",
    "for n in range(1):\n",
    "    #with h5py.File('/Users/eormacstudio/Documents/GitHub/GRANDWin/test/results/faster/win_z_scores_data_day_1_grid_%s_integration_8_real.h5' %(n), \"r\") as f:\n",
    "    with h5py.File('/Users/eormacstudio/Documents/GitHub/GRANDWin/data/processed/detected_outliers/3/win_z_scores_data_day_1_grid_%s_integration_8_real.h5' %(n), \"r\") as f:\n",
    "        data = f[\"wins_z_score\"][:]\n",
    "        obs_id = f[\"obs_id\"][:]\n",
    "        time_blocks = f[\"time_blocks\"][:]\n",
    "\n",
    "    flat_data = data.reshape(-1, data.shape[-1])\n",
    "    \n",
    "    # Create DataFrame\n",
    "    df_temp = pd.DataFrame(flat_data, columns=[\"XX\", \"XY\", \"YX\", \"YY\"])\n",
    "\n",
    "    df_temp[\"obs_id\"] = np.tile(obs_id, data.shape[1]*data.shape[2])\n",
    "    df_temp[\"time_index\"] = np.repeat(np.arange(data.shape[0]), data.shape[1] * data.shape[2])\n",
    "    df_temp[\"frequency\"] = np.tile(np.arange(data.shape[2]), data.shape[0] * data.shape[1])\n",
    "    df_temp[\"antenna\"] = np.tile(np.repeat(np.arange(data.shape[1]), data.shape[2]), data.shape[0])\n",
    "    df_temp[\"obs_id\"] = df_temp['time_index'].map(lambda t: obs_id[t])\n",
    "    df_temp[\"timeblock\"] = df_temp['time_index'].map(lambda t: int(time_blocks[t]))\n",
    "    #df_temp['timeblock'] = df_temp.timeblock.apply(lambda x: np.where(transform_tb == x)[0].tolist())\n",
    "    #df_temp = df_temp.explode('timeblock').reset_index(drop=True)\n",
    "\n",
    "    df_sel_rfi_fast = pd.concat([df_sel_rfi_fast, df_temp]).reset_index(drop = True)\n"
   ]
  },
  {
   "cell_type": "code",
   "execution_count": null,
   "id": "f4eac806",
   "metadata": {},
   "outputs": [],
   "source": [
    "df_sel_rfi_slow = pd.DataFrame()\n",
    "for o in range(1):\n",
    "    #aa = pd.read_csv(\"/Users/eormacstudio/Documents/GitHub/GRANDWin/test/results/slower/both_side_selected_outliers_3_sigma_day_1_grid_[%s]_iter_100_real_part_8s.csv\" %(o), header=None)\n",
    "    aa = pd.read_csv(\"/Users/eormacstudio/Documents/GitHub/GRANDWin/test/results/slower/observation_data/both_side_selected_outliers_3_sigma_day_1_grid_[%s]_iter_100_real_part_8s.csv\" %(o), header=None)\n",
    "    aa.columns = ['xx', 'yy', 'obs_id', 'timeblocks', 'tile', 'freqs', 'z_score', 'polarization']\n",
    "    aa = aa[~aa['z_score'].isna()].reset_index(drop=True)\n",
    "    aa['z_score'] = aa['z_score'].astype(float)\n",
    "    aa['floor_z_score'] = aa['z_score'].apply(lambda x: ma.floor(x))\n",
    "    df_sel_rfi_slow = pd.concat([df_sel_rfi_slow, aa]).reset_index(drop = True)"
   ]
  },
  {
   "cell_type": "code",
   "execution_count": null,
   "id": "bf81bab4",
   "metadata": {},
   "outputs": [],
   "source": [
    "np.unique(df_sel_rfi_fast['obs_id'])"
   ]
  },
  {
   "cell_type": "code",
   "execution_count": null,
   "id": "c6f5dead",
   "metadata": {},
   "outputs": [],
   "source": [
    "df_sel_rfi_fast[df_sel_rfi_fast['obs_id'] == 1095450824].head(10)"
   ]
  },
  {
   "cell_type": "code",
   "execution_count": null,
   "id": "3b89aa7e",
   "metadata": {},
   "outputs": [],
   "source": [
    "df_sel_rfi_slow[(df_sel_rfi_slow['obs_id'] == 1095450824) & (df_sel_rfi_slow['freqs'] == 0) & (df_sel_rfi_slow['tile'] == 0) & (df_sel_rfi_slow['timeblocks'] == 0)]"
   ]
  },
  {
   "cell_type": "markdown",
   "id": "155bcd39",
   "metadata": {},
   "source": [
    "---"
   ]
  },
  {
   "cell_type": "markdown",
   "id": "55ccdbf1",
   "metadata": {},
   "source": [
    "#### Min max comparison"
   ]
  },
  {
   "cell_type": "code",
   "execution_count": null,
   "id": "45754f5e",
   "metadata": {},
   "outputs": [],
   "source": [
    "df_stat_slow = pd.DataFrame()\n",
    "for o in range(1):\n",
    "    #oo = pd.read_csv(\"/Users/eormacstudio/Documents/GitHub/GRANDWin/test/results/slower/both_side_outliers_statistics_3_sigma_day_1_grid_[%s]_iter_100_real_part_8s.csv\" %(o), header=None)\n",
    "    oo = pd.read_csv(\"/Users/eormacstudio/Documents/GitHub/GRANDWin/test/results/slower/observation_data/both_side_outliers_statistics_3_sigma_day_1_grid_[%s]_iter_100_real_part_8s.csv\" %(o), header=None)\n",
    "    oo.columns = ['tile', 'freqs', 'polarization', 'skewness', 'max', 'min', 'mean', 'win_mean', 'std', 'win_std', 'gamma_final', 'number_of_outliers']\n",
    "    oo['grid'] = o\n",
    "    df_stat_slow = pd.concat([df_stat_slow, oo]).reset_index(drop = True)"
   ]
  },
  {
   "cell_type": "code",
   "execution_count": null,
   "id": "adf2848b",
   "metadata": {},
   "outputs": [],
   "source": [
    "df_stat_fast = pd.DataFrame()\n",
    "for o in range(1):\n",
    "    #oo = pd.read_parquet(\"/Users/eormacstudio/Documents/GitHub/GRANDWin/test/results/faster/outlier_statistics_day_1_grid_%s_integration_8_real.parquet\" %(o))\n",
    "    oo = pd.read_parquet(\"/Users/eormacstudio/Documents/GitHub/GRANDWin/data/processed/detected_outliers/3/outlier_statistics_day_1_grid_%s_integration_8_real.parquet\" %(o))\n",
    "    oo['grid'] = o\n",
    "    df_stat_fast = pd.concat([df_stat_fast, oo]).reset_index(drop = True)"
   ]
  },
  {
   "cell_type": "code",
   "execution_count": null,
   "id": "cd022eb7",
   "metadata": {},
   "outputs": [],
   "source": [
    "df_gamma_fast = pd.DataFrame()\n",
    "for o in range(1):\n",
    "    #oo = pd.read_parquet(\"/Users/eormacstudio/Documents/GitHub/GRANDWin/test/results/faster/final_gamma_day_1_grid_%s_integration_8_real.parquet\" %(o))\n",
    "    oo = pd.read_parquet(\"/Users/eormacstudio/Documents/GitHub/GRANDWin/data/processed/detected_outliers/3/final_gamma_day_1_grid_%s_integration_8_real.parquet\" %(o))\n",
    "    oo['grid'] = o\n",
    "    df_gamma_fast = pd.concat([df_gamma_fast, oo]).reset_index(drop = True)"
   ]
  },
  {
   "cell_type": "code",
   "execution_count": null,
   "id": "6e012302",
   "metadata": {},
   "outputs": [],
   "source": [
    "df_stat_slow[(df_stat_slow['tile'] == 6) & (df_stat_slow['freqs'] == 100)]"
   ]
  },
  {
   "cell_type": "code",
   "execution_count": null,
   "id": "306bd11a",
   "metadata": {},
   "outputs": [],
   "source": [
    "df_stat_fast[(df_stat_fast['antenna'] == 6) & (df_stat_fast['frequency'] == 100) & (df_stat_fast['polarization'].isin([0,3]))]"
   ]
  },
  {
   "cell_type": "code",
   "execution_count": null,
   "id": "eeb785cb",
   "metadata": {},
   "outputs": [],
   "source": [
    "df_gamma_fast[(df_gamma_fast['antenna'] == 6) & (df_gamma_fast['frequency'] == 100) & (df_stat_fast['polarization'].isin([0,3]))]"
   ]
  },
  {
   "cell_type": "markdown",
   "id": "f5e4200b",
   "metadata": {},
   "source": [
    "---"
   ]
  },
  {
   "cell_type": "code",
   "execution_count": null,
   "id": "7292d04b",
   "metadata": {},
   "outputs": [],
   "source": [
    "df_sel_rfi_fast = pd.DataFrame()\n",
    "transform_tb = np.repeat(np.arange(0,14,1), 4)\n",
    "\n",
    "for n in range(1):\n",
    "    with h5py.File('/Users/eormacstudio/Documents/GitHub/GRANDWin/data/processed/detected_outliers/win_z_scores_data_day_1_grid_%s_integration_8_real.h5' %(n), \"r\") as f:\n",
    "        data = f[\"wins_z_score\"][:]\n",
    "        obs_id = f[\"obs_id\"][:]\n",
    "        time_blocks = f[\"time_blocks\"][:]\n",
    "\n",
    "    flat_data = data.reshape(-1, data.shape[-1])\n",
    "    \n",
    "    # Create DataFrame\n",
    "    df_temp = pd.DataFrame(flat_data, columns=[\"XX\", \"XY\", \"YX\", \"YY\"])\n",
    "\n",
    "    df_temp[\"obs_id\"] = np.tile(obs_id, data.shape[1]*data.shape[2])\n",
    "    df_temp[\"time_index\"] = np.repeat(np.arange(data.shape[0]), data.shape[1] * data.shape[2])\n",
    "    df_temp[\"frequency\"] = np.tile(np.arange(data.shape[2]), data.shape[0] * data.shape[1])\n",
    "    df_temp[\"antenna\"] = np.tile(np.repeat(np.arange(data.shape[1]), data.shape[2]), data.shape[0])\n",
    "    df_temp[\"obs_id\"] = df_temp['time_index'].map(lambda t: obs_id[t])\n",
    "    df_temp[\"timeblock\"] = df_temp['time_index'].map(lambda t: int(time_blocks[t]))\n",
    "    #df_temp['timeblock'] = df_temp.timeblock.apply(lambda x: np.where(transform_tb == x)[0].tolist())\n",
    "    #df_temp = df_temp.explode('timeblock').reset_index(drop=True)\n",
    "\n",
    "    df_sel_rfi_fast = pd.concat([df_sel_rfi_fast, df_temp]).reset_index(drop = True)\n"
   ]
  },
  {
   "cell_type": "code",
   "execution_count": null,
   "id": "9fd23ed6",
   "metadata": {},
   "outputs": [],
   "source": [
    "df_sel_rfi_fast[df_sel_rfi_fast['time_index'] == 0]"
   ]
  },
  {
   "cell_type": "code",
   "execution_count": null,
   "id": "2dfc6cbd",
   "metadata": {},
   "outputs": [],
   "source": [
    "f = fits.open(f\"/Users/eormacstudio/Documents/GitHub/GRANDWin/data/raw/calibration_solutions/20250712_observation_data_8s_before_with_cotter_time_corrections_without_flags/uvfits/calibrated_fits/hyperdrive_solutions_1095450704.fits\")"
   ]
  },
  {
   "cell_type": "code",
   "execution_count": null,
   "id": "acdd776a",
   "metadata": {},
   "outputs": [],
   "source": [
    "f['SOLUTIONS'].data[:, :, :, ::2]"
   ]
  },
  {
   "cell_type": "code",
   "execution_count": null,
   "id": "5c7e9a9f",
   "metadata": {},
   "outputs": [],
   "source": [
    "g = fits.open(f\"/Users/eormacstudio/Documents/GitHub/GRANDWin/data/raw/calibration_solutions/20240831_multiple_simulation_higher_thermal_noise_sn3_8s/uvfits/calibrated_fits/hyperdrive_solutions_1095450704.fits\")"
   ]
  },
  {
   "cell_type": "code",
   "execution_count": null,
   "id": "5a046564",
   "metadata": {},
   "outputs": [],
   "source": [
    "g['SOLUTIONS'].data[:, :, :, ::2]"
   ]
  },
  {
   "cell_type": "markdown",
   "id": "eb5e6ef3",
   "metadata": {},
   "source": [
    "---"
   ]
  },
  {
   "cell_type": "markdown",
   "id": "c84a1658",
   "metadata": {},
   "source": [
    "#### Importing h5 file for flagging"
   ]
  },
  {
   "cell_type": "code",
   "execution_count": null,
   "id": "f0f7f9ce",
   "metadata": {},
   "outputs": [],
   "source": [
    "with h5py.File('/Users/eormacstudio/Documents/GitHub/GRANDWin/data/processed/detected_outliers/outliers_location_day_1_grid_%s_integration_8_real.h5' %(0), \"r\") as f:\n",
    "    data = f[\"outliers_mask\"][:]\n",
    "    obs_id = f[\"obs_id\"][:]\n",
    "    time_blocks = f[\"time_blocks\"][:]"
   ]
  },
  {
   "cell_type": "code",
   "execution_count": null,
   "id": "41c422ea",
   "metadata": {},
   "outputs": [],
   "source": [
    "flat_data = data.reshape(-1, data.shape[-1])\n",
    "    \n",
    "# Create DataFrame\n",
    "df_temp = pd.DataFrame(flat_data, columns=[\"XX\", \"XY\", \"YX\", \"YY\"])\n",
    "\n",
    "df_temp[\"obs_id\"] = np.tile(obs_id, data.shape[1]*data.shape[2])\n",
    "df_temp[\"time_index\"] = np.repeat(np.arange(data.shape[0]), data.shape[1] * data.shape[2])\n",
    "df_temp[\"frequency\"] = np.tile(np.arange(data.shape[2]), data.shape[0] * data.shape[1])\n",
    "df_temp[\"antenna\"] = np.tile(np.repeat(np.arange(data.shape[1]), data.shape[2]), data.shape[0])\n",
    "df_temp[\"obs_id\"] = df_temp['time_index'].map(lambda t: obs_id[t])\n",
    "df_temp[\"timeblock\"] = df_temp['time_index'].map(lambda t: int(time_blocks[t]))"
   ]
  },
  {
   "cell_type": "code",
   "execution_count": null,
   "id": "c408a533",
   "metadata": {},
   "outputs": [],
   "source": [
    "dfs = df_temp[(df_temp['XX'] == True) | (df_temp['YY'] == True)].reset_index(drop=True)"
   ]
  },
  {
   "cell_type": "code",
   "execution_count": null,
   "id": "09364f8a",
   "metadata": {},
   "outputs": [],
   "source": [
    "sel_dfs = dfs[dfs['obs_id'] == 1095451432]['frequency'].value_counts().to_frame().reset_index()"
   ]
  },
  {
   "cell_type": "code",
   "execution_count": null,
   "id": "a95bc6f7",
   "metadata": {},
   "outputs": [],
   "source": [
    "dfs[dfs['frequency'].isin(sel_dfs[sel_dfs['count'] > 10]['frequency'].to_list())]"
   ]
  },
  {
   "cell_type": "code",
   "execution_count": null,
   "id": "e014697b",
   "metadata": {},
   "outputs": [],
   "source": [
    "sel_dfs[sel_dfs['count'] > 10]['frequency'].to_list()"
   ]
  },
  {
   "cell_type": "code",
   "execution_count": null,
   "id": "118c3d13",
   "metadata": {},
   "outputs": [],
   "source": [
    "# Number of antenna affected the detected RFI similar to AOFlagger\n",
    "len(np.unique(dfs[(dfs['obs_id'] == 1095451432) & (dfs['frequency'] == 625)]['antenna']))"
   ]
  },
  {
   "cell_type": "code",
   "execution_count": null,
   "id": "4a0ed81b",
   "metadata": {},
   "outputs": [],
   "source": [
    "# Number of antenna affected the detected RFI\n",
    "len(np.unique(dfs[(dfs['obs_id'] == 1095451432) & (dfs['frequency'] == 570)]['antenna']))"
   ]
  },
  {
   "cell_type": "code",
   "execution_count": null,
   "id": "56f13a6e",
   "metadata": {},
   "outputs": [],
   "source": [
    "# Number of antenna affected the detected RFI\n",
    "len(np.unique(dfs[(dfs['obs_id'] == 1095451432) & (dfs['frequency'] == 540)]['antenna']))"
   ]
  },
  {
   "cell_type": "markdown",
   "id": "0970eedd",
   "metadata": {},
   "source": [
    "---"
   ]
  },
  {
   "cell_type": "markdown",
   "id": "7289ac78",
   "metadata": {},
   "source": [
    "#### Testing plot"
   ]
  },
  {
   "cell_type": "code",
   "execution_count": null,
   "id": "7676a118",
   "metadata": {},
   "outputs": [],
   "source": [
    "def plot_flags(ss: UVData, args, obsname, suffix, cmap):\n",
    "    \"\"\"Plot the flag occupancy.\"\"\"\n",
    "    pols = ss.get_pols()\n",
    "    gps_times = get_gps_times(ss)\n",
    "    freqs_mhz = (ss.freq_array) / 1e6\n",
    "\n",
    "    occupancy = np.nansum(\n",
    "        ss.flag_array.reshape(ss.Ntimes, ss.Nbls, ss.Nspws, ss.Nfreqs, len(pols)),\n",
    "        axis=(1, 2, 4),\n",
    "    ).astype(np.float64)\n",
    "    full_occupancy_value = ss.Nbls * ss.Nspws * len(pols)\n",
    "    occupancy[occupancy == full_occupancy_value] = np.nan\n",
    "    max_occupancy = np.nanmax(occupancy)\n",
    "    print(f\"{max_occupancy=} {full_occupancy_value=}\")\n",
    "    # clip at half occupancy\n",
    "    # occupancy[occupancy >= full_occupancy_value / 2] = full_occupancy_value / 2\n",
    "\n",
    "    occupancy /= full_occupancy_value\n",
    "\n",
    "    plt.suptitle(f\"{obsname} occupancy{suffix} {pols[0] if len(pols) == 1 else ''}\")\n",
    "    plt.imshow(\n",
    "        occupancy[...],\n",
    "        aspect=\"auto\",\n",
    "        interpolation=\"none\",\n",
    "        cmap=cmap,\n",
    "        extent=[\n",
    "            np.min(freqs_mhz),\n",
    "            np.max(freqs_mhz),\n",
    "            np.max(gps_times),\n",
    "            np.min(gps_times),\n",
    "        ],\n",
    "    )\n",
    "\n",
    "    # add a color bar\n",
    "    cbar = plt.colorbar()\n",
    "    cbar.set_label(\"Flag occupancy\")\n",
    "\n",
    "    plt.ylabel(\"GPS Time [s]\")\n",
    "    plt.xlabel(\"Frequency channel [MHz]\")\n",
    "\n",
    "    plt.gcf().set_size_inches(16, np.min([9, 4 * len(pols)]))"
   ]
  },
  {
   "cell_type": "code",
   "execution_count": null,
   "id": "658528d3",
   "metadata": {},
   "outputs": [],
   "source": [
    "with_no_flags = fits.open(\"/Users/eormacstudio/Documents/GitHub/GRANDWin/data/raw/uvfits_raw/1095451432_w_no_flags059-078.uvfits\")\n",
    "date_unique, unique_id = np.unique(with_no_flags[0].data['DATE'], return_inverse=True)\n",
    "\n",
    "reshaped_no_flags = with_no_flags[0].data.data.reshape(len(np.unique(with_no_flags[0].data['BASELINE'])), len(date_unique), with_no_flags[0].data.data.shape[3], with_no_flags[0].data.data.shape[4], with_no_flags[0].data.data.shape[5])\n",
    "weights = reshaped_no_flags[..., 2]  # shape: (8128, 56, 640, 4)\n",
    "flags = weights < 0  # boolean array of same shape\n",
    "\n",
    "flags = np.transpose(flags, (1, 2, 0, 3))  # shape: (56, 640, 8128, 4)\n",
    "flag_counts = np.sum(flags, axis=(2, 3))  # shape: (56, 640)\n",
    "\n",
    "total_possible = flags.shape[2] * flags.shape[3]  # 8128 × 4 = 32512\n",
    "occupancy = flag_counts / total_possible  # shape: (56, 640)"
   ]
  },
  {
   "cell_type": "code",
   "execution_count": null,
   "id": "5621ac22",
   "metadata": {},
   "outputs": [],
   "source": [
    "occupancy"
   ]
  },
  {
   "cell_type": "code",
   "execution_count": null,
   "id": "01f9209f",
   "metadata": {},
   "outputs": [],
   "source": [
    "import matplotlib.pyplot as plt\n",
    "import matplotlib.colors as mcolors\n",
    "\n",
    "# Create a custom colormap that maps NaN to black\n",
    "cmap = plt.cm.viridis.copy()\n",
    "cmap.set_bad(color='black')  # set NaNs to black\n",
    "\n",
    "# Plot\n",
    "plt.figure(figsize=(14, 6))\n",
    "plt.imshow(\n",
    "    occupancy,\n",
    "    aspect='auto',\n",
    "    interpolation='none',\n",
    "    cmap=cmap,\n",
    "    extent=[0, 640, 56, 0]\n",
    ")\n",
    "plt.colorbar(label=\"Flag occupancy (fraction)\")\n",
    "plt.xlabel(\"Frequency channel\")\n",
    "plt.ylabel(\"Time index\")\n",
    "plt.title(\"Flag Occupancy (NaNs shown in black)\")\n",
    "plt.tight_layout()\n",
    "plt.show()\n"
   ]
  },
  {
   "cell_type": "markdown",
   "id": "499ee98b",
   "metadata": {},
   "source": [
    "##### Working"
   ]
  },
  {
   "cell_type": "markdown",
   "id": "effd8637",
   "metadata": {},
   "source": [
    "##### No flags"
   ]
  },
  {
   "cell_type": "code",
   "execution_count": null,
   "id": "c57e1ce3",
   "metadata": {},
   "outputs": [],
   "source": [
    "total_channels = 640\n",
    "center_channel = 321\n",
    "center_freq_mhz = 87.68\n",
    "channel_spacing_mhz = 0.04  # 40 kHz\n",
    "\n",
    "# Calculate first and last frequencies\n",
    "start_freq = center_freq_mhz - (center_channel * channel_spacing_mhz)\n",
    "end_freq = center_freq_mhz + ((total_channels - center_channel - 1) * channel_spacing_mhz)"
   ]
  },
  {
   "cell_type": "code",
   "execution_count": null,
   "id": "b9d0f204",
   "metadata": {},
   "outputs": [],
   "source": [
    "import numpy as np\n",
    "from astropy.io import fits\n",
    "\n",
    "POL_ORDER = ['XX', 'XY', 'YX', 'YY']\n",
    "pol_to_plot = 'XX'  # ← customize this\n",
    "\n",
    "with_no_flags = fits.open(\"/Users/eormacstudio/Documents/GitHub/GRANDWin/data/raw/uvfits_raw/1095451432_w_no_flags059-078.uvfits\")\n",
    "\n",
    "# Extract metadata\n",
    "date_unique, unique_id = np.unique(with_no_flags[0].data['DATE'], return_inverse=True)\n",
    "\n",
    "# Reshape data\n",
    "reshaped_no_flags = with_no_flags[0].data.data.reshape(\n",
    "    len(date_unique),\n",
    "    len(np.unique(with_no_flags[0].data['BASELINE'])),\n",
    "    with_no_flags[0].data.data.shape[3],\n",
    "    with_no_flags[0].data.data.shape[4],\n",
    "    with_no_flags[0].data.data.shape[5]\n",
    ")\n",
    "\n",
    "# Extract weights and flags\n",
    "weights_no_flags = reshaped_no_flags[..., 2]  # shape: (56, 8128, 640, 4)\n",
    "flags_no_flags = weights_no_flags < 0                  # boolean array of shape (56, 8128, 640, 4)\n",
    "\n",
    "# Reorder axes: (time, frequency, baseline, polarization)\n",
    "flags_no_flags = np.transpose(flags_no_flags, (0, 2, 1, 3))  # shape: (56, 640, 8128, 4)\n",
    "\n",
    "# Select polarization\n",
    "pol_idx = POL_ORDER.index(pol_to_plot)\n",
    "flags_pol_no_flags = flags_no_flags[..., pol_idx]           # shape: (56, 640, 8128)\n",
    "\n",
    "# Sum over baselines\n",
    "flag_counts_no_flags = np.sum(flags_pol_no_flags, axis=2)   # shape: (56, 640)\n",
    "\n",
    "# Normalize by total number of baselines\n",
    "total_possible_no_flags = flags_pol_no_flags.shape[2]\n",
    "occupancy_no_flags = flag_counts_no_flags / total_possible_no_flags  # shape: (56, 640)"
   ]
  },
  {
   "cell_type": "markdown",
   "id": "127d55cf",
   "metadata": {},
   "source": [
    "##### with flags"
   ]
  },
  {
   "cell_type": "code",
   "execution_count": null,
   "id": "ae3d10ca",
   "metadata": {},
   "outputs": [],
   "source": [
    "import numpy as np\n",
    "from astropy.io import fits\n",
    "\n",
    "POL_ORDER = ['XX', 'XY', 'YX', 'YY']\n",
    "pol_to_plot = 'XX'  # ← customize this\n",
    "\n",
    "with_flags = fits.open(\"/Users/eormacstudio/Documents/GitHub/GRANDWin/data/processed/uvfits_update/1095451432_w_no_flags059-078_flagged.uvfits\")\n",
    "\n",
    "# Extract metadata\n",
    "date_unique, unique_id = np.unique(with_flags[0].data['DATE'], return_inverse=True)\n",
    "\n",
    "reshaped_with_flags = with_flags[0].data.data.reshape(\n",
    "    len(date_unique),\n",
    "    len(np.unique(with_flags[0].data['BASELINE'])),\n",
    "    with_flags[0].data.data.shape[3],\n",
    "    with_flags[0].data.data.shape[4],\n",
    "    with_flags[0].data.data.shape[5])\n",
    "\n",
    "# Extract weights and flags\n",
    "weights_with_flags = reshaped_with_flags[..., 2]  # shape: (56, 8128, 640, 4)\n",
    "print(\"weights shape: \", weights_with_flags.shape)\n",
    "flags_with_flags = weights_with_flags < 0                  # boolean array of shape (56, 8128, 640, 4)\n",
    "\n",
    "# Reorder axes: (time, frequency, baseline, polarization)\n",
    "flags_with_flags = np.transpose(flags_with_flags, (0, 2, 1, 3))  # shape: (56, 640, 8128, 4)\n",
    "print(\"flagss shape: \", flags_with_flags.shape)\n",
    "\n",
    "# Select polarization\n",
    "pol_idx = POL_ORDER.index(pol_to_plot)\n",
    "flags_pol_with_flags = flags_with_flags[..., pol_idx]           # shape: (56, 640, 8128)\n",
    "print(\"flags_pol shape: \", flags_pol_with_flags.shape)\n",
    "\n",
    "# Sum over baselines\n",
    "flag_counts_with_flags = np.sum(flags_pol_with_flags, axis=2)   # shape: (56, 640)\n",
    "print(\"flags_counts shape: \", flag_counts_with_flags.shape)\n",
    "\n",
    "# Normalize by total number of baselines\n",
    "total_possible_with_flags = flags_pol_with_flags.shape[2]\n",
    "occupancy_with_flags = flag_counts_with_flags / total_possible_with_flags  # shape: (56, 640)"
   ]
  },
  {
   "cell_type": "code",
   "execution_count": null,
   "id": "3960acbf",
   "metadata": {},
   "outputs": [],
   "source": [
    "occupancy_total = occupancy_with_flags - occupancy_no_flags"
   ]
  },
  {
   "cell_type": "markdown",
   "id": "3af49c7e",
   "metadata": {},
   "source": [
    "##### AOF win flags"
   ]
  },
  {
   "cell_type": "code",
   "execution_count": null,
   "id": "6ff0a199",
   "metadata": {},
   "outputs": [],
   "source": [
    "import numpy as np\n",
    "from astropy.io import fits\n",
    "\n",
    "POL_ORDER = ['XX', 'XY', 'YX', 'YY']\n",
    "pol_to_plot = 'XX'  # ← customize this\n",
    "\n",
    "aof_wins = fits.open(\"/Users/eormacstudio/Documents/GitHub/GRANDWin/data/raw/uvfits_raw/1095451432_w_flags_corrections_time_edges059-078_wins_flags_allbl_5.uvfits\")\n",
    "\n",
    "# Extract metadata\n",
    "date_unique, unique_id = np.unique(aof_wins[0].data['DATE'], return_inverse=True)\n",
    "\n",
    "reshaped_aof_wins = aof_wins[0].data.data.reshape(\n",
    "    len(date_unique),\n",
    "    len(np.unique(aof_wins[0].data['BASELINE'])),\n",
    "    aof_wins[0].data.data.shape[3],\n",
    "    aof_wins[0].data.data.shape[4],\n",
    "    aof_wins[0].data.data.shape[5])\n",
    "\n",
    "# Extract weights and flags\n",
    "weights_aof_wins = reshaped_aof_wins[..., 2]  # shape: (56, 8128, 640, 4)\n",
    "print(\"weights shape: \", weights_aof_wins.shape)\n",
    "flags_aof_wins = weights_aof_wins < 0                  # boolean array of shape (56, 8128, 640, 4)\n",
    "\n",
    "# Reorder axes: (time, frequency, baseline, polarization)\n",
    "flags_aof_wins = np.transpose(flags_aof_wins, (0, 2, 1, 3))  # shape: (56, 640, 8128, 4)\n",
    "print(\"flagss shape: \", flags_aof_wins.shape)\n",
    "\n",
    "# Select polarization\n",
    "pol_idx = POL_ORDER.index(pol_to_plot)\n",
    "flags_pol_aof_wins = flags_aof_wins[..., pol_idx]           # shape: (56, 640, 8128)\n",
    "print(\"flags_pol shape: \", flags_pol_aof_wins.shape)\n",
    "\n",
    "# Sum over baselines\n",
    "flag_counts_aof_wins = np.sum(flags_pol_aof_wins, axis=2)   # shape: (56, 640)\n",
    "print(\"flags_counts shape: \", flag_counts_aof_wins.shape)\n",
    "\n",
    "# Normalize by total number of baselines\n",
    "total_possible_aof_wins = flags_pol_aof_wins.shape[2]\n",
    "occupancy_aof_wins = flag_counts_aof_wins / total_possible_aof_wins  # shape: (56, 640)"
   ]
  },
  {
   "cell_type": "code",
   "execution_count": null,
   "id": "d1268da5",
   "metadata": {},
   "outputs": [],
   "source": [
    "occupancy_total_aof_wins = occupancy_aof_wins - occupancy_no_flags"
   ]
  },
  {
   "cell_type": "code",
   "execution_count": null,
   "id": "49a07ee2",
   "metadata": {},
   "outputs": [],
   "source": [
    "import matplotlib.pyplot as plt\n",
    "import matplotlib.colors as mcolors\n",
    "\n",
    "# Create a custom colormap that maps NaN to black\n",
    "cmap = plt.cm.viridis.copy()\n",
    "cmap.set_bad(color='black')  # set NaNs to black\n",
    "\n",
    "# Plot\n",
    "plt.figure(figsize=(14, 6))\n",
    "plt.imshow(\n",
    "    occupancy_total,\n",
    "    aspect='auto',\n",
    "    interpolation='none',\n",
    "    cmap=cmap,\n",
    "    extent=[start_freq, end_freq, 56, 0]\n",
    ")\n",
    "plt.colorbar(label=\"Flag occupancy (fraction)\")\n",
    "plt.xlabel(\"Frequency channel (MHz)\")\n",
    "plt.ylabel(\"Time index\")\n",
    "plt.title(\"Flag Occupancy Observation ID: 1095451432\")\n",
    "plt.tight_layout()\n",
    "plt.show()\n"
   ]
  },
  {
   "cell_type": "code",
   "execution_count": null,
   "id": "2d08e872",
   "metadata": {},
   "outputs": [],
   "source": [
    "import matplotlib.pyplot as plt\n",
    "import matplotlib.colors as mcolors\n",
    "\n",
    "# Create a custom colormap that maps NaN to black\n",
    "cmap = plt.cm.viridis.copy()\n",
    "cmap.set_bad(color='black')  # set NaNs to black\n",
    "\n",
    "# Plot\n",
    "plt.figure(figsize=(14, 6))\n",
    "plt.imshow(\n",
    "    occupancy_total_aof_wins,\n",
    "    aspect='auto',\n",
    "    interpolation='none',\n",
    "    cmap=cmap,\n",
    "    extent=[start_freq, end_freq, 56, 0], vmin=0, vmax=1.\n",
    ")\n",
    "plt.colorbar(label=\"Flag occupancy (fraction)\")\n",
    "plt.xlabel(\"Frequency channel (MHz)\", fontsize=14)\n",
    "plt.ylabel(\"Time index\", fontsize=14)\n",
    "#plt.title(\"Flag Occupancy Observation ID: 1095451432\", fontsize=14)\n",
    "plt.tight_layout()\n",
    "plt.show()\n"
   ]
  },
  {
   "cell_type": "code",
   "execution_count": null,
   "id": "ab3bc4a9",
   "metadata": {},
   "outputs": [],
   "source": [
    "import matplotlib.pyplot as plt\n",
    "import matplotlib.colors as mcolors\n",
    "\n",
    "# Create a custom colormap that maps NaN to black\n",
    "cmap = plt.cm.viridis.copy()\n",
    "cmap.set_bad(color='black')  # set NaNs to black\n",
    "\n",
    "# Plot\n",
    "plt.figure(figsize=(14, 6))\n",
    "plt.imshow(\n",
    "    occupancy_aof,\n",
    "    aspect='auto',\n",
    "    interpolation='none',\n",
    "    cmap=cmap,\n",
    "    extent=[start_freq, end_freq, 56, 0], vmin=0, vmax=1.\n",
    ")\n",
    "plt.colorbar(label=\"Flag occupancy (fraction)\")\n",
    "plt.xlabel(\"Frequency channel (MHz)\")\n",
    "plt.ylabel(\"Time index\")\n",
    "#plt.title(\"Flag Occupancy Observation ID: 1095451432\")\n",
    "plt.tight_layout()\n",
    "plt.show()\n"
   ]
  },
  {
   "cell_type": "markdown",
   "id": "97684ac5",
   "metadata": {},
   "source": [
    "---"
   ]
  },
  {
   "cell_type": "markdown",
   "id": "0de775a2",
   "metadata": {},
   "source": [
    "##### Trial"
   ]
  },
  {
   "cell_type": "code",
   "execution_count": null,
   "id": "832fc57f",
   "metadata": {},
   "outputs": [],
   "source": [
    "import numpy as np\n",
    "from astropy.io import fits\n",
    "\n",
    "POL_ORDER = ['XX', 'XY', 'YX', 'YY']\n",
    "pol_to_plot = 'XX'  # ← customize this\n",
    "\n",
    "with_trial = fits.open(\"/Users/eormacstudio/Documents/GitHub/GRANDWin/data/processed/uvfits_update/1095451432_w_no_flags059-078_flagged.uvfits\")\n",
    "\n",
    "# Extract metadata\n",
    "date_unique, unique_id = np.unique(with_trial[0].data['DATE'], return_inverse=True)\n",
    "\n",
    "reshaped_with_trial = with_trial[0].data.data.reshape(\n",
    "    len(date_unique),\n",
    "    len(np.unique(with_trial[0].data['BASELINE'])),\n",
    "    with_trial[0].data.data.shape[3],\n",
    "    with_trial[0].data.data.shape[4],\n",
    "    with_trial[0].data.data.shape[5])\n",
    "\n",
    "# Extract weights and flags\n",
    "weights_with_trial = reshaped_with_trial[..., 2]  # shape: (56, 8128, 640, 4)\n",
    "print(\"weights shape: \", weights_with_trial.shape)\n",
    "flags_with_trial = weights_with_trial < 0                  # boolean array of shape (56, 8128, 640, 4)\n",
    "\n",
    "# Reorder axes: (time, frequency, baseline, polarization)\n",
    "flags_with_trial = np.transpose(flags_with_trial, (0, 2, 1, 3))  # shape: (56, 640, 8128, 4)\n",
    "print(\"flagss shape: \", flags_with_trial.shape)\n",
    "\n",
    "# Select polarization\n",
    "pol_idx = POL_ORDER.index(pol_to_plot)\n",
    "flags_pol_with_trial = flags_with_trial[..., pol_idx]           # shape: (56, 640, 8128)\n",
    "print(\"flags_pol shape: \", flags_pol_with_trial.shape)\n",
    "\n",
    "# Sum over baselines\n",
    "flag_counts_with_trial = np.sum(flags_pol_with_trial, axis=2)   # shape: (56, 640)\n",
    "print(\"flags_counts shape: \", flag_counts_with_trial.shape)\n",
    "\n",
    "# Normalize by total number of baselines\n",
    "total_possible_with_trial = flags_pol_with_trial.shape[2]\n",
    "occupancy_with_trial = flag_counts_with_trial / total_possible_with_trial  # shape: (56, 640)"
   ]
  },
  {
   "cell_type": "code",
   "execution_count": null,
   "id": "5133f83a",
   "metadata": {},
   "outputs": [],
   "source": [
    "occupancy_total_trial = occupancy_with_trial - occupancy_no_flags"
   ]
  },
  {
   "cell_type": "code",
   "execution_count": null,
   "id": "5882d722",
   "metadata": {},
   "outputs": [],
   "source": [
    "import matplotlib.pyplot as plt\n",
    "import matplotlib.colors as mcolors\n",
    "\n",
    "# Create a custom colormap that maps NaN to black\n",
    "cmap = plt.cm.viridis.copy()\n",
    "cmap.set_bad(color='black')  # set NaNs to black\n",
    "\n",
    "# Plot\n",
    "plt.figure(figsize=(14, 6))\n",
    "plt.imshow(\n",
    "    occupancy_total_trial,\n",
    "    aspect='auto',\n",
    "    interpolation='none',\n",
    "    cmap=cmap,\n",
    "    extent=[start_freq, end_freq, 56, 0]\n",
    ")\n",
    "plt.colorbar(label=\"Flag occupancy (fraction)\")\n",
    "plt.xlabel(\"Frequency channel (MHz)\")\n",
    "plt.ylabel(\"Time index\")\n",
    "plt.title(\"Flag Occupancy Observation ID: 1095451432\")\n",
    "plt.tight_layout()\n",
    "plt.show()\n"
   ]
  },
  {
   "cell_type": "markdown",
   "id": "93b0153a",
   "metadata": {},
   "source": [
    "##### AOFlagger"
   ]
  },
  {
   "cell_type": "code",
   "execution_count": null,
   "id": "89126c0a",
   "metadata": {},
   "outputs": [],
   "source": [
    "import numpy as np\n",
    "from astropy.io import fits\n",
    "\n",
    "POL_ORDER = ['XX', 'XY', 'YX', 'YY']\n",
    "pol_to_plot = 'XX'  # ← customize this\n",
    "\n",
    "aof_flags = fits.open(\"/Users/eormacstudio/Documents/GitHub/GRANDWin/data/raw/uvfits_raw/1095451432_w_flags_corrections_time_edges059-078.uvfits\")\n",
    "\n",
    "# Extract metadata\n",
    "date_unique, unique_id = np.unique(aof_flags[0].data['DATE'], return_inverse=True)\n",
    "\n",
    "reshaped_aof_flags = aof_flags[0].data.data.reshape(\n",
    "    len(date_unique),\n",
    "    len(np.unique(aof_flags[0].data['BASELINE'])),\n",
    "    aof_flags[0].data.data.shape[3],\n",
    "    aof_flags[0].data.data.shape[4],\n",
    "    aof_flags[0].data.data.shape[5])\n",
    "\n",
    "# Extract weights and flags\n",
    "weights_aof = reshaped_aof_flags[..., 2]  # shape: (56, 8128, 640, 4)\n",
    "print(\"weights shape: \", weights_aof.shape)\n",
    "flags_aof = weights_aof < 0                  # boolean array of shape (56, 8128, 640, 4)\n",
    "\n",
    "# Reorder axes: (time, frequency, baseline, polarization)\n",
    "flags_aof = np.transpose(flags_aof, (0, 2, 1, 3))  # shape: (56, 640, 8128, 4)\n",
    "print(\"flagss shape: \", flags_aof.shape)\n",
    "\n",
    "# Select polarization\n",
    "pol_idx = POL_ORDER.index(pol_to_plot)\n",
    "flags_pol_aof = flags_aof[..., pol_idx]           # shape: (56, 640, 8128)\n",
    "print(\"flags_pol shape: \", flags_pol_aof.shape)\n",
    "\n",
    "# Sum over baselines\n",
    "flag_counts_aof = np.sum(flags_pol_aof, axis=2)   # shape: (56, 640)\n",
    "print(\"flags_counts shape: \", flag_counts_aof.shape)\n",
    "\n",
    "# Normalize by total number of baselines\n",
    "total_possible_aof = flags_pol_aof.shape[2]\n",
    "occupancy_aof = flag_counts_aof / total_possible_aof  # shape: (56, 640)\n",
    "occupancy_aof[occupancy_aof == 1.0] = 1e-6"
   ]
  },
  {
   "cell_type": "code",
   "execution_count": null,
   "id": "a6f4d07d",
   "metadata": {},
   "outputs": [],
   "source": [
    "fig, axs = plt.subplots(2,1, figsize=(14, 10), facecolor='white', sharex=True)\n",
    "\n",
    "axs[0].imshow(\n",
    "    occupancy_aof,\n",
    "    aspect='auto',\n",
    "    interpolation='none',\n",
    "    cmap=cmap,\n",
    "    extent=[start_freq, end_freq, 56, 0])\n",
    "axs[0].tick_params(axis='x', labelsize=13)\n",
    "axs[0].tick_params(axis='y', labelsize=13)\n",
    "\n",
    "axs[1].imshow(\n",
    "    occupancy_total_aof_wins,\n",
    "    aspect='auto',\n",
    "    interpolation='none',\n",
    "    cmap=cmap,\n",
    "    extent=[start_freq, end_freq, 56, 0])\n",
    "axs[1].tick_params(axis='x', labelsize=13)\n",
    "axs[1].tick_params(axis='y', labelsize=13)\n",
    "\n",
    "fig.text(0.5, 0.06, \"Frequency (MHz)\", size=14, ha='center')\n",
    "fig.text(0.08, 0.5, 'Observation timeblocks', fontsize=14, va='center', rotation='vertical')"
   ]
  },
  {
   "cell_type": "markdown",
   "id": "83e74d63",
   "metadata": {},
   "source": [
    "---"
   ]
  },
  {
   "cell_type": "markdown",
   "id": "00e8eb8c",
   "metadata": {},
   "source": [
    "##### with flags"
   ]
  },
  {
   "cell_type": "code",
   "execution_count": null,
   "id": "fb9ec2fb",
   "metadata": {},
   "outputs": [],
   "source": [
    "import numpy as np\n",
    "from astropy.io import fits\n",
    "\n",
    "POL_ORDER = ['XX', 'XY', 'YX', 'YY']\n",
    "pol_to_plot = 'XX'  # ← customize this\n",
    "\n",
    "with_flags = fits.open(\"/Users/eormacstudio/Documents/GitHub/GRANDWin/data/processed/uvfits_update/1095451432_w_no_flags059-078_flagged.uvfits\")\n",
    "\n",
    "# Extract metadata\n",
    "date_unique, unique_id = np.unique(with_flags[0].data['DATE'], return_inverse=True)\n",
    "\n",
    "# Reshape data\n",
    "#reshaped_with_flags = with_flags[0].data.data.reshape(\n",
    "#    len(np.unique(with_flags[0].data['BASELINE'])),\n",
    "#    len(date_unique),\n",
    "#    with_flags[0].data.data.shape[3],\n",
    "#    with_flags[0].data.data.shape[4],\n",
    "#    with_flags[0].data.data.shape[5])\n",
    "\n",
    "reshaped_with_flags = with_flags[0].data.data.reshape(\n",
    "    len(date_unique),\n",
    "    len(np.unique(with_flags[0].data['BASELINE'])),\n",
    "    with_flags[0].data.data.shape[3],\n",
    "    with_flags[0].data.data.shape[4],\n",
    "    with_flags[0].data.data.shape[5])\n",
    "\n",
    "# Extract weights and flags\n",
    "weights = reshaped_with_flags[..., 2]  # shape: (8128, 56, 640, 4)\n",
    "print(\"weights shape: \", weights.shape)\n",
    "flags = weights < 0                  # boolean array of shape (8128, 56, 640, 4)\n",
    "\n",
    "# Reorder axes: (time, frequency, baseline, polarization)\n",
    "#flags = np.transpose(flags, (1, 2, 0, 3))  # shape: (56, 640, 8128, 4)\n",
    "flags = np.transpose(flags, (0, 2, 1, 3))  # shape: (56, 640, 8128, 4)\n",
    "print(\"flagss shape: \", flags.shape)\n",
    "\n",
    "# Select polarization\n",
    "pol_idx = POL_ORDER.index(pol_to_plot)\n",
    "flags_pol = flags[..., pol_idx]           # shape: (56, 640, 8128)\n",
    "print(\"flags_pol shape: \", flags_pol.shape)\n",
    "\n",
    "# Sum over baselines\n",
    "flag_counts = np.sum(flags_pol, axis=2)   # shape: (56, 640)\n",
    "print(\"flags_counts shape: \", flag_counts.shape)\n",
    "\n",
    "# Normalize by total number of baselines\n",
    "total_possible = flags_pol.shape[2]\n",
    "occupancy = flag_counts / total_possible  # shape: (56, 640)\n",
    "#occupancy[occupancy == 1.0] = 1e-6"
   ]
  },
  {
   "cell_type": "markdown",
   "id": "07055533",
   "metadata": {},
   "source": [
    "##### AOFlagger"
   ]
  },
  {
   "cell_type": "code",
   "execution_count": null,
   "id": "ddda6f33",
   "metadata": {},
   "outputs": [],
   "source": [
    "import numpy as np\n",
    "from astropy.io import fits\n",
    "\n",
    "POL_ORDER = ['XX', 'XY', 'YX', 'YY']\n",
    "pol_to_plot = 'XX'  # ← customize this\n",
    "\n",
    "aof_flags = fits.open(\"/Users/eormacstudio/Documents/GitHub/GRANDWin/data/raw/uvfits_raw/1095451432_w_flags_corrections_time_edges059-078.uvfits\")\n",
    "\n",
    "# Extract metadata\n",
    "date_unique, unique_id = np.unique(aof_flags[0].data['DATE'], return_inverse=True)\n",
    "\n",
    "# Reshape data\n",
    "reshaped_no_flags = aof_flags[0].data.data.reshape(\n",
    "    len(np.unique(aof_flags[0].data['BASELINE'])),\n",
    "    len(date_unique),\n",
    "    aof_flags[0].data.data.shape[3],\n",
    "    aof_flags[0].data.data.shape[4],\n",
    "    aof_flags[0].data.data.shape[5]\n",
    ")\n",
    "\n",
    "# Extract weights and flags\n",
    "weights = reshaped_no_flags[..., 2]  # shape: (8128, 56, 640, 4)\n",
    "flags = weights < 0                  # boolean array of shape (8128, 56, 640, 4)\n",
    "\n",
    "# Reorder axes: (time, frequency, baseline, polarization)\n",
    "flags = np.transpose(flags, (1, 2, 0, 3))  # shape: (56, 640, 8128, 4)\n",
    "\n",
    "# Select polarization\n",
    "pol_idx = POL_ORDER.index(pol_to_plot)\n",
    "flags_pol = flags[..., pol_idx]           # shape: (56, 640, 8128)\n",
    "\n",
    "# Sum over baselines\n",
    "flag_counts = np.sum(flags_pol, axis=2)   # shape: (56, 640)\n",
    "\n",
    "# Normalize by total number of baselines\n",
    "total_possible = flags_pol.shape[2]\n",
    "occupancy = flag_counts / total_possible  # shape: (56, 640)\n",
    "occupancy[occupancy == 1.0] = 1e-6"
   ]
  },
  {
   "cell_type": "code",
   "execution_count": null,
   "id": "df35f001",
   "metadata": {},
   "outputs": [],
   "source": [
    "import numpy as np\n",
    "from astropy.io import fits\n",
    "\n",
    "POL_ORDER = ['XX', 'XY', 'YX', 'YY']\n",
    "pol_to_plot = 'XX'  # ← customize this\n",
    "\n",
    "aof_flags = fits.open(\"/Users/eormacstudio/Documents/GitHub/GRANDWin/data/raw/uvfits_raw/1095451432_w_flags_corrections_time_edges059-078.uvfits\")\n",
    "\n",
    "# Extract metadata\n",
    "date_unique, unique_id = np.unique(aof_flags[0].data['DATE'], return_inverse=True)\n",
    "\n",
    "# Reshape data\n",
    "#reshaped_with_flags = with_flags[0].data.data.reshape(\n",
    "#    len(np.unique(with_flags[0].data['BASELINE'])),\n",
    "#    len(date_unique),\n",
    "#    with_flags[0].data.data.shape[3],\n",
    "#    with_flags[0].data.data.shape[4],\n",
    "#    with_flags[0].data.data.shape[5])\n",
    "\n",
    "reshaped_aof_flags = aof_flags[0].data.data.reshape(\n",
    "    len(date_unique),\n",
    "    len(np.unique(aof_flags[0].data['BASELINE'])),\n",
    "    aof_flags[0].data.data.shape[3],\n",
    "    aof_flags[0].data.data.shape[4],\n",
    "    aof_flags[0].data.data.shape[5])\n",
    "\n",
    "# Extract weights and flags\n",
    "weights = reshaped_aof_flags[..., 2]  # shape: (56, 8128, 640, 4)\n",
    "print(\"weights shape: \", weights.shape)\n",
    "flags = weights < 0                  # boolean array of shape (56, 8128, 640, 4)\n",
    "\n",
    "# Reorder axes: (time, frequency, baseline, polarization)\n",
    "#flags = np.transpose(flags, (1, 2, 0, 3))  # shape: (56, 640, 8128, 4)\n",
    "flags = np.transpose(flags, (0, 2, 1, 3))  # shape: (56, 640, 8128, 4)\n",
    "print(\"flagss shape: \", flags.shape)\n",
    "\n",
    "# Select polarization\n",
    "pol_idx = POL_ORDER.index(pol_to_plot)\n",
    "flags_pol = flags[..., pol_idx]           # shape: (56, 640, 8128)\n",
    "print(\"flags_pol shape: \", flags_pol.shape)\n",
    "\n",
    "# Sum over baselines\n",
    "flag_counts = np.sum(flags_pol, axis=2)   # shape: (56, 640)\n",
    "print(\"flags_counts shape: \", flag_counts.shape)\n",
    "\n",
    "# Normalize by total number of baselines\n",
    "total_possible = flags_pol.shape[2]\n",
    "occupancy = flag_counts / total_possible  # shape: (56, 640)\n",
    "occupancy[occupancy == 1.0] = 1e-6"
   ]
  },
  {
   "cell_type": "code",
   "execution_count": null,
   "id": "8c99cf51",
   "metadata": {},
   "outputs": [],
   "source": []
  }
 ],
 "metadata": {
  "kernelspec": {
   "display_name": "Python 3",
   "language": "python",
   "name": "python3"
  },
  "language_info": {
   "codemirror_mode": {
    "name": "ipython",
    "version": 3
   },
   "file_extension": ".py",
   "mimetype": "text/x-python",
   "name": "python",
   "nbconvert_exporter": "python",
   "pygments_lexer": "ipython3",
   "version": "3.13.3"
  }
 },
 "nbformat": 4,
 "nbformat_minor": 5
}
