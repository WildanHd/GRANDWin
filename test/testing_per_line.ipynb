{
 "cells": [
  {
   "cell_type": "code",
   "execution_count": null,
   "id": "fffd2055",
   "metadata": {},
   "outputs": [],
   "source": [
    "import pandas as pd\n",
    "import numpy as np\n",
    "import datetime as dt\n",
    "import h5py\n",
    "import math as ma"
   ]
  },
  {
   "cell_type": "code",
   "execution_count": null,
   "id": "d51548e6",
   "metadata": {},
   "outputs": [],
   "source": [
    "df = pd.read_csv(\"/Users/eormacstudio/Documents/GitHub/GRANDWin/data/raw/observation_id/observation_id.csv\", header=0, engine='python')\n",
    "df['date'] = df.starttime_utc.apply(lambda x: dt.datetime.strptime(x, \"%Y-%m-%dT%H:%M:%S.000Z\").date())\n",
    "df['date_time'] = df.starttime_utc.apply(lambda x: dt.datetime.strptime(x, \"%Y-%m-%dT%H:%M:%S.000Z\"))\n",
    "df['partition'] = pd.factorize(df['date'])[0] + 1\n",
    "df = df[df['partition'] == 1].reset_index(drop=True)"
   ]
  },
  {
   "cell_type": "markdown",
   "id": "a8437ef7",
   "metadata": {},
   "source": [
    "---"
   ]
  },
  {
   "cell_type": "markdown",
   "id": "11089e1f",
   "metadata": {},
   "source": [
    "#### Checking the results normal vs faster algorithm"
   ]
  },
  {
   "cell_type": "code",
   "execution_count": null,
   "id": "d77c457d",
   "metadata": {},
   "outputs": [],
   "source": [
    "df_sel_rfi_fast = pd.DataFrame()\n",
    "transform_tb = np.repeat(np.arange(0,14,1), 4)\n",
    "\n",
    "for n in range(3):\n",
    "    with h5py.File('/Users/eormacstudio/Documents/GitHub/GRANDWin/test/results/faster/win_z_scores_data_day_1_grid_%s_integration_8_real.h5' %(n), \"r\") as f:\n",
    "        data = f[\"wins_z_score\"][:]\n",
    "        obs_id = f[\"obs_id\"][:]\n",
    "        time_blocks = f[\"time_blocks\"][:]\n",
    "\n",
    "    flat_data = data.reshape(-1, data.shape[-1])\n",
    "    \n",
    "    # Create DataFrame\n",
    "    df_temp = pd.DataFrame(flat_data, columns=[\"XX\", \"XY\", \"YX\", \"YY\"])\n",
    "\n",
    "    df_temp[\"obs_id\"] = np.tile(obs_id, data.shape[1]*data.shape[2])\n",
    "    df_temp[\"time_index\"] = np.repeat(np.arange(data.shape[0]), data.shape[1] * data.shape[2])\n",
    "    df_temp[\"frequency\"] = np.tile(np.arange(data.shape[2]), data.shape[0] * data.shape[1])\n",
    "    df_temp[\"antenna\"] = np.tile(np.repeat(np.arange(data.shape[1]), data.shape[2]), data.shape[0])\n",
    "    df_temp[\"obs_id\"] = df_temp['time_index'].map(lambda t: obs_id[t])\n",
    "    df_temp[\"timeblock\"] = df_temp['time_index'].map(lambda t: int(time_blocks[t]))\n",
    "    #df_temp['timeblock'] = df_temp.timeblock.apply(lambda x: np.where(transform_tb == x)[0].tolist())\n",
    "    #df_temp = df_temp.explode('timeblock').reset_index(drop=True)\n",
    "\n",
    "    df_sel_rfi_fast = pd.concat([df_sel_rfi_fast, df_temp]).reset_index(drop = True)\n"
   ]
  },
  {
   "cell_type": "code",
   "execution_count": null,
   "id": "f4eac806",
   "metadata": {},
   "outputs": [],
   "source": [
    "df_sel_rfi_slow = pd.DataFrame()\n",
    "for o in range(3):\n",
    "    aa = pd.read_csv(\"/Users/eormacstudio/Documents/GitHub/GRANDWin/test/results/slower/both_side_selected_outliers_3_sigma_day_1_grid_[%s]_iter_100_real_part_8s.csv\" %(o), header=None)\n",
    "    aa.columns = ['xx', 'yy', 'obs_id', 'timeblocks', 'tile', 'freqs', 'z_score', 'polarization']\n",
    "    aa = aa[~aa['z_score'].isna()].reset_index(drop=True)\n",
    "    aa['z_score'] = aa['z_score'].astype(float)\n",
    "    aa['floor_z_score'] = aa['z_score'].apply(lambda x: ma.floor(x))\n",
    "    df_sel_rfi_slow = pd.concat([df_sel_rfi_slow, aa]).reset_index(drop = True)"
   ]
  },
  {
   "cell_type": "code",
   "execution_count": null,
   "id": "bf81bab4",
   "metadata": {},
   "outputs": [],
   "source": [
    "np.unique(df_sel_rfi_fast['obs_id'])"
   ]
  },
  {
   "cell_type": "code",
   "execution_count": null,
   "id": "c6f5dead",
   "metadata": {},
   "outputs": [],
   "source": [
    "df_sel_rfi_fast[df_sel_rfi_fast['obs_id'] == 1095449728].head(10)"
   ]
  },
  {
   "cell_type": "code",
   "execution_count": null,
   "id": "3b89aa7e",
   "metadata": {},
   "outputs": [],
   "source": [
    "df_sel_rfi_slow[(df_sel_rfi_slow['obs_id'] == 1095449728) & (df_sel_rfi_slow['freqs'] == 0) & (df_sel_rfi_slow['tile'] == 0) & (df_sel_rfi_slow['timeblocks'] == 0)]"
   ]
  },
  {
   "cell_type": "markdown",
   "id": "155bcd39",
   "metadata": {},
   "source": [
    "---"
   ]
  },
  {
   "cell_type": "markdown",
   "id": "55ccdbf1",
   "metadata": {},
   "source": [
    "#### Min max comparison"
   ]
  },
  {
   "cell_type": "code",
   "execution_count": null,
   "id": "45754f5e",
   "metadata": {},
   "outputs": [],
   "source": [
    "df_stat_slow = pd.DataFrame()\n",
    "for o in range(3):\n",
    "    oo = pd.read_csv(\"/Users/eormacstudio/Documents/GitHub/GRANDWin/test/results/slower/both_side_outliers_statistics_3_sigma_day_1_grid_[%s]_iter_100_real_part_8s.csv\" %(o), header=None)\n",
    "    oo.columns = ['tile', 'freqs', 'polarization', 'skewness', 'max', 'min', 'mean', 'win_mean', 'std', 'win_std', 'gamma_final', 'number_of_outliers']\n",
    "    oo['grid'] = o\n",
    "    df_stat_slow = pd.concat([df_stat_slow, oo]).reset_index(drop = True)"
   ]
  },
  {
   "cell_type": "code",
   "execution_count": null,
   "id": "adf2848b",
   "metadata": {},
   "outputs": [],
   "source": [
    "df_stat_fast = pd.DataFrame()\n",
    "for o in range(3):\n",
    "    oo = pd.read_parquet(\"/Users/eormacstudio/Documents/GitHub/GRANDWin/test/results/faster/outlier_statistics_day_1_grid_%s_integration_8_real.parquet\" %(o))\n",
    "    oo['grid'] = o\n",
    "    df_stat_fast = pd.concat([df_stat_fast, oo]).reset_index(drop = True)"
   ]
  },
  {
   "cell_type": "code",
   "execution_count": null,
   "id": "cd022eb7",
   "metadata": {},
   "outputs": [],
   "source": [
    "df_gamma_fast = pd.DataFrame()\n",
    "for o in range(3):\n",
    "    oo = pd.read_parquet(\"/Users/eormacstudio/Documents/GitHub/GRANDWin/test/results/faster/final_gamma_day_1_grid_%s_integration_8_real.parquet\" %(o))\n",
    "    oo['grid'] = o\n",
    "    df_gamma_fast = pd.concat([df_gamma_fast, oo]).reset_index(drop = True)"
   ]
  },
  {
   "cell_type": "code",
   "execution_count": null,
   "id": "6e012302",
   "metadata": {},
   "outputs": [],
   "source": [
    "df_stat_slow[(df_stat_slow['tile'] == 0) & (df_stat_slow['freqs'] == 8)]"
   ]
  },
  {
   "cell_type": "code",
   "execution_count": null,
   "id": "306bd11a",
   "metadata": {},
   "outputs": [],
   "source": [
    "df_stat_fast[(df_stat_fast['antenna'] == 0) & (df_stat_fast['frequency'] == 8) & (df_stat_fast['polarization'].isin([0,3]))]"
   ]
  },
  {
   "cell_type": "code",
   "execution_count": null,
   "id": "eeb785cb",
   "metadata": {},
   "outputs": [],
   "source": [
    "df_gamma_fast[(df_gamma_fast['antenna'] == 0) & (df_gamma_fast['frequency'] == 7) & (df_stat_fast['polarization'].isin([0,3]))]"
   ]
  },
  {
   "cell_type": "code",
   "execution_count": null,
   "id": "7292d04b",
   "metadata": {},
   "outputs": [],
   "source": []
  }
 ],
 "metadata": {
  "kernelspec": {
   "display_name": "Python 3",
   "language": "python",
   "name": "python3"
  },
  "language_info": {
   "codemirror_mode": {
    "name": "ipython",
    "version": 3
   },
   "file_extension": ".py",
   "mimetype": "text/x-python",
   "name": "python",
   "nbconvert_exporter": "python",
   "pygments_lexer": "ipython3",
   "version": "3.13.3"
  }
 },
 "nbformat": 4,
 "nbformat_minor": 5
}
