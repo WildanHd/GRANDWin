{
 "cells": [
  {
   "cell_type": "code",
   "execution_count": 1,
   "id": "a9edcda2",
   "metadata": {},
   "outputs": [],
   "source": [
    "import pandas as pd\n",
    "import numpy as np\n",
    "import datetime as dt\n",
    "import h5py\n",
    "import math as ma\n",
    "from astropy.io import fits\n",
    "from astropy.time import Time\n",
    "from matplotlib import pyplot as plt\n",
    "from matplotlib.axis import Axis\n",
    "from pyuvdata import UVData\n",
    "import matplotlib as mpl"
   ]
  },
  {
   "cell_type": "code",
   "execution_count": 2,
   "id": "231e01ab",
   "metadata": {},
   "outputs": [],
   "source": [
    "df_sel_rfi_fast = pd.DataFrame()\n",
    "transform_tb = np.repeat(np.arange(0,14,1), 4)\n",
    "\n",
    "for n in range(1):\n",
    "    with h5py.File('/Users/eormacstudio/Documents/GitHub/GRANDWin/data/processed/detected_outliers/thermal_only/3_5_one_side/win_z_scores_data_day_1_grid_%s_integration_8_real.h5' %(n), \"r\") as f:\n",
    "    #with h5py.File('/Users/eormacstudio/Documents/GitHub/GRANDWin/data/processed/detected_outliers/win_z_scores_data_day_1_grid_%s_integration_8_real.h5' %(n), \"r\") as f:\n",
    "        data = f[\"wins_z_score\"][:]\n",
    "        obs_id = f[\"obs_id\"][:]\n",
    "        time_blocks = f[\"time_blocks\"][:]\n",
    "\n",
    "    flat_data = data.reshape(-1, data.shape[-1])\n",
    "\n",
    "    df_temp = pd.DataFrame(flat_data, columns=[\"XX\", \"XY\", \"YX\", \"YY\"])\n",
    "\n",
    "    df_temp[\"obs_id\"] = np.tile(obs_id, data.shape[1]*data.shape[2])\n",
    "    df_temp[\"time_index\"] = np.repeat(np.arange(data.shape[0]), data.shape[1]*data.shape[2])\n",
    "    df_temp[\"frequency\"] = np.tile(np.arange(data.shape[2]), data.shape[0]*data.shape[1])\n",
    "    df_temp[\"antenna\"] = np.tile(np.repeat(np.arange(data.shape[1]), data.shape[2]), data.shape[0])\n",
    "    df_temp[\"obs_id\"] = df_temp[\"time_index\"].map(lambda t: obs_id[t])\n",
    "    df_temp[\"timeblock\"] = df_temp[\"time_index\"].map(lambda t: int(time_blocks[t]))\n",
    "\n",
    "    df_sel_rfi_fast = pd.concat([df_sel_rfi_fast, df_temp]).reset_index(drop=True)"
   ]
  },
  {
   "cell_type": "code",
   "execution_count": null,
   "id": "31b90d28",
   "metadata": {},
   "outputs": [],
   "source": [
    "df_sel_rfi_fast = df_sel_rfi_fast[df_sel_rfi_fast['obs_id'] == 1095451432].reset_index(drop=True)\n",
    "df_sel_rfi_fast[((df_sel_rfi_fast[\"XX\"] < -5) | (df_sel_rfi_fast[\"XX\"] > 5)) | ((df_sel_rfi_fast[\"YY\"] < -5) | (df_sel_rfi_fast[\"YY\"] > 5))]"
   ]
  },
  {
   "cell_type": "code",
   "execution_count": 10,
   "id": "95ff57bc",
   "metadata": {},
   "outputs": [
    {
     "data": {
      "text/html": [
       "<div>\n",
       "<style scoped>\n",
       "    .dataframe tbody tr th:only-of-type {\n",
       "        vertical-align: middle;\n",
       "    }\n",
       "\n",
       "    .dataframe tbody tr th {\n",
       "        vertical-align: top;\n",
       "    }\n",
       "\n",
       "    .dataframe thead th {\n",
       "        text-align: right;\n",
       "    }\n",
       "</style>\n",
       "<table border=\"1\" class=\"dataframe\">\n",
       "  <thead>\n",
       "    <tr style=\"text-align: right;\">\n",
       "      <th></th>\n",
       "      <th>XX</th>\n",
       "      <th>XY</th>\n",
       "      <th>YX</th>\n",
       "      <th>YY</th>\n",
       "      <th>obs_id</th>\n",
       "      <th>time_index</th>\n",
       "      <th>frequency</th>\n",
       "      <th>antenna</th>\n",
       "      <th>timeblock</th>\n",
       "    </tr>\n",
       "  </thead>\n",
       "  <tbody>\n",
       "    <tr>\n",
       "      <th>0</th>\n",
       "      <td>-5.047529</td>\n",
       "      <td>-1.623106</td>\n",
       "      <td>0.917379</td>\n",
       "      <td>0.810451</td>\n",
       "      <td>1095450704</td>\n",
       "      <td>5</td>\n",
       "      <td>564</td>\n",
       "      <td>124</td>\n",
       "      <td>5</td>\n",
       "    </tr>\n",
       "    <tr>\n",
       "      <th>1</th>\n",
       "      <td>-5.011579</td>\n",
       "      <td>-2.345671</td>\n",
       "      <td>2.548353</td>\n",
       "      <td>0.125190</td>\n",
       "      <td>1095450704</td>\n",
       "      <td>10</td>\n",
       "      <td>161</td>\n",
       "      <td>33</td>\n",
       "      <td>10</td>\n",
       "    </tr>\n",
       "    <tr>\n",
       "      <th>2</th>\n",
       "      <td>-5.336892</td>\n",
       "      <td>-0.215848</td>\n",
       "      <td>-0.265656</td>\n",
       "      <td>0.107893</td>\n",
       "      <td>1095450824</td>\n",
       "      <td>23</td>\n",
       "      <td>132</td>\n",
       "      <td>34</td>\n",
       "      <td>9</td>\n",
       "    </tr>\n",
       "    <tr>\n",
       "      <th>3</th>\n",
       "      <td>0.853553</td>\n",
       "      <td>0.482752</td>\n",
       "      <td>0.325399</td>\n",
       "      <td>-5.287469</td>\n",
       "      <td>1095451432</td>\n",
       "      <td>89</td>\n",
       "      <td>39</td>\n",
       "      <td>30</td>\n",
       "      <td>5</td>\n",
       "    </tr>\n",
       "    <tr>\n",
       "      <th>4</th>\n",
       "      <td>-5.080586</td>\n",
       "      <td>0.095828</td>\n",
       "      <td>-0.086522</td>\n",
       "      <td>0.951310</td>\n",
       "      <td>1095451552</td>\n",
       "      <td>104</td>\n",
       "      <td>282</td>\n",
       "      <td>38</td>\n",
       "      <td>6</td>\n",
       "    </tr>\n",
       "    <tr>\n",
       "      <th>5</th>\n",
       "      <td>1.580151</td>\n",
       "      <td>1.682172</td>\n",
       "      <td>-1.926710</td>\n",
       "      <td>-5.288006</td>\n",
       "      <td>1095451800</td>\n",
       "      <td>135</td>\n",
       "      <td>610</td>\n",
       "      <td>38</td>\n",
       "      <td>9</td>\n",
       "    </tr>\n",
       "  </tbody>\n",
       "</table>\n",
       "</div>"
      ],
      "text/plain": [
       "         XX        XY        YX        YY      obs_id  time_index  frequency  \\\n",
       "0 -5.047529 -1.623106  0.917379  0.810451  1095450704           5        564   \n",
       "1 -5.011579 -2.345671  2.548353  0.125190  1095450704          10        161   \n",
       "2 -5.336892 -0.215848 -0.265656  0.107893  1095450824          23        132   \n",
       "3  0.853553  0.482752  0.325399 -5.287469  1095451432          89         39   \n",
       "4 -5.080586  0.095828 -0.086522  0.951310  1095451552         104        282   \n",
       "5  1.580151  1.682172 -1.926710 -5.288006  1095451800         135        610   \n",
       "\n",
       "   antenna  timeblock  \n",
       "0      124          5  \n",
       "1       33         10  \n",
       "2       34          9  \n",
       "3       30          5  \n",
       "4       38          6  \n",
       "5       38          9  "
      ]
     },
     "execution_count": 10,
     "metadata": {},
     "output_type": "execute_result"
    }
   ],
   "source": [
    "# Selected outliers for thermal noise only based on winsorizing z_score\n",
    "\n",
    "df_sel_rfi_fast[((df_sel_rfi_fast[\"XX\"] < -5)) | ((df_sel_rfi_fast[\"YY\"] < -5))].reset_index(drop=True)"
   ]
  },
  {
   "cell_type": "code",
   "execution_count": 15,
   "id": "e2c727b6",
   "metadata": {},
   "outputs": [
    {
     "data": {
      "text/plain": [
       "22020096"
      ]
     },
     "execution_count": 15,
     "metadata": {},
     "output_type": "execute_result"
    }
   ],
   "source": [
    "14*16*768*128"
   ]
  },
  {
   "cell_type": "code",
   "execution_count": 11,
   "id": "f72f7ca3",
   "metadata": {},
   "outputs": [
    {
     "data": {
      "text/plain": [
       "obs_id\n",
       "1095450704    1376256\n",
       "1095450824    1376256\n",
       "1095450944    1376256\n",
       "1095451064    1376256\n",
       "1095451192    1376256\n",
       "1095451312    1376256\n",
       "1095451432    1376256\n",
       "1095451552    1376256\n",
       "1095451680    1376256\n",
       "1095451800    1376256\n",
       "1095451920    1376256\n",
       "1095452040    1376256\n",
       "1095452168    1376256\n",
       "1095452288    1376256\n",
       "1095452408    1376256\n",
       "1095452528    1376256\n",
       "Name: count, dtype: int64"
      ]
     },
     "execution_count": 11,
     "metadata": {},
     "output_type": "execute_result"
    }
   ],
   "source": [
    "df_sel_rfi_fast['obs_id'].value_counts()"
   ]
  },
  {
   "cell_type": "markdown",
   "id": "d053c9be",
   "metadata": {},
   "source": [
    "---"
   ]
  },
  {
   "cell_type": "markdown",
   "id": "a86355e7",
   "metadata": {},
   "source": [
    "#### Outliers location"
   ]
  },
  {
   "cell_type": "code",
   "execution_count": 7,
   "id": "3157677d",
   "metadata": {},
   "outputs": [],
   "source": [
    "df_out_loc = pd.DataFrame()\n",
    "transform_tb = np.repeat(np.arange(0,14,1), 4)\n",
    "\n",
    "for n in range(1):\n",
    "    with h5py.File('/Users/eormacstudio/Documents/GitHub/GRANDWin/data/processed/detected_outliers/thermal_only/3_5_one_side/outliers_location_day_1_grid_%s_integration_8_real.h5' %(n), \"r\") as f:\n",
    "    #with h5py.File('/Users/eormacstudio/Documents/GitHub/GRANDWin/data/processed/detected_outliers/outliers_location_day_1_grid_%s_integration_8_real.h5' %(n), \"r\") as f:\n",
    "        outliers_mask = f[\"outliers_mask\"][:]\n",
    "        obs_id = f[\"obs_id\"][:].astype(str)\n",
    "        time_blocks = f[\"time_blocks\"][:]\n",
    "\n",
    "    flat_data = outliers_mask.reshape(-1, outliers_mask.shape[-1])\n",
    "\n",
    "    df_outliers = pd.DataFrame(flat_data, columns=[\"XX\", \"XY\", \"YX\", \"YY\"])\n",
    "\n",
    "    df_outliers[\"obs_id\"] = np.tile(obs_id, outliers_mask.shape[1]*outliers_mask.shape[2])\n",
    "    df_outliers[\"time_index\"] = np.repeat(np.arange(outliers_mask.shape[0]), outliers_mask.shape[1] * outliers_mask.shape[2])\n",
    "    df_outliers[\"frequency\"] = np.tile(np.arange(outliers_mask.shape[2]), outliers_mask.shape[0] * outliers_mask.shape[1])\n",
    "    df_outliers[\"antenna\"] = np.tile(np.repeat(np.arange(outliers_mask.shape[1]), outliers_mask.shape[2]), outliers_mask.shape[0])\n",
    "    df_outliers[\"obs_id\"] = df_outliers['time_index'].map(lambda t: int(obs_id[t]))\n",
    "    df_outliers[\"timeblock\"] = df_outliers['time_index'].map(lambda t: int(time_blocks[t]))\n",
    "\n",
    "    df_out_loc = pd.concat([df_out_loc, df_outliers]).reset_index(drop=True)"
   ]
  },
  {
   "cell_type": "code",
   "execution_count": null,
   "id": "8c5ee360",
   "metadata": {},
   "outputs": [
    {
     "data": {
      "text/html": [
       "<div>\n",
       "<style scoped>\n",
       "    .dataframe tbody tr th:only-of-type {\n",
       "        vertical-align: middle;\n",
       "    }\n",
       "\n",
       "    .dataframe tbody tr th {\n",
       "        vertical-align: top;\n",
       "    }\n",
       "\n",
       "    .dataframe thead th {\n",
       "        text-align: right;\n",
       "    }\n",
       "</style>\n",
       "<table border=\"1\" class=\"dataframe\">\n",
       "  <thead>\n",
       "    <tr style=\"text-align: right;\">\n",
       "      <th></th>\n",
       "      <th>XX</th>\n",
       "      <th>XY</th>\n",
       "      <th>YX</th>\n",
       "      <th>YY</th>\n",
       "      <th>obs_id</th>\n",
       "      <th>time_index</th>\n",
       "      <th>frequency</th>\n",
       "      <th>antenna</th>\n",
       "      <th>timeblock</th>\n",
       "    </tr>\n",
       "  </thead>\n",
       "  <tbody>\n",
       "    <tr>\n",
       "      <th>0</th>\n",
       "      <td>True</td>\n",
       "      <td>False</td>\n",
       "      <td>False</td>\n",
       "      <td>False</td>\n",
       "      <td>1095450704</td>\n",
       "      <td>5</td>\n",
       "      <td>564</td>\n",
       "      <td>124</td>\n",
       "      <td>5</td>\n",
       "    </tr>\n",
       "    <tr>\n",
       "      <th>1</th>\n",
       "      <td>True</td>\n",
       "      <td>False</td>\n",
       "      <td>False</td>\n",
       "      <td>False</td>\n",
       "      <td>1095450704</td>\n",
       "      <td>10</td>\n",
       "      <td>161</td>\n",
       "      <td>33</td>\n",
       "      <td>10</td>\n",
       "    </tr>\n",
       "    <tr>\n",
       "      <th>2</th>\n",
       "      <td>True</td>\n",
       "      <td>False</td>\n",
       "      <td>False</td>\n",
       "      <td>False</td>\n",
       "      <td>1095450824</td>\n",
       "      <td>23</td>\n",
       "      <td>132</td>\n",
       "      <td>34</td>\n",
       "      <td>9</td>\n",
       "    </tr>\n",
       "    <tr>\n",
       "      <th>3</th>\n",
       "      <td>False</td>\n",
       "      <td>False</td>\n",
       "      <td>False</td>\n",
       "      <td>True</td>\n",
       "      <td>1095451432</td>\n",
       "      <td>89</td>\n",
       "      <td>39</td>\n",
       "      <td>30</td>\n",
       "      <td>5</td>\n",
       "    </tr>\n",
       "    <tr>\n",
       "      <th>4</th>\n",
       "      <td>True</td>\n",
       "      <td>False</td>\n",
       "      <td>False</td>\n",
       "      <td>False</td>\n",
       "      <td>1095451552</td>\n",
       "      <td>104</td>\n",
       "      <td>282</td>\n",
       "      <td>38</td>\n",
       "      <td>6</td>\n",
       "    </tr>\n",
       "    <tr>\n",
       "      <th>5</th>\n",
       "      <td>False</td>\n",
       "      <td>False</td>\n",
       "      <td>False</td>\n",
       "      <td>True</td>\n",
       "      <td>1095451800</td>\n",
       "      <td>135</td>\n",
       "      <td>610</td>\n",
       "      <td>38</td>\n",
       "      <td>9</td>\n",
       "    </tr>\n",
       "  </tbody>\n",
       "</table>\n",
       "</div>"
      ],
      "text/plain": [
       "      XX     XY     YX     YY      obs_id  time_index  frequency  antenna  \\\n",
       "0   True  False  False  False  1095450704           5        564      124   \n",
       "1   True  False  False  False  1095450704          10        161       33   \n",
       "2   True  False  False  False  1095450824          23        132       34   \n",
       "3  False  False  False   True  1095451432          89         39       30   \n",
       "4   True  False  False  False  1095451552         104        282       38   \n",
       "5  False  False  False   True  1095451800         135        610       38   \n",
       "\n",
       "   timeblock  \n",
       "0          5  \n",
       "1         10  \n",
       "2          9  \n",
       "3          5  \n",
       "4          6  \n",
       "5          9  "
      ]
     },
     "execution_count": 9,
     "metadata": {},
     "output_type": "execute_result"
    }
   ],
   "source": [
    "# Selected outliers for thermal noise only\n",
    "\n",
    "df_out_loc[df_out_loc[[\"XX\", \"YY\"]].any(axis=1)].reset_index(drop=True)"
   ]
  },
  {
   "cell_type": "code",
   "execution_count": null,
   "id": "9dcb6163",
   "metadata": {},
   "outputs": [],
   "source": [
    "sel_df_outliers = df_out_loc[df_out_loc['obs_id'] == 1095451432]['frequency'].value_counts().to_frame().reset_index()\n",
    "sel_df_outliers = sel_df_outliers[sel_df_outliers['count'] > 3]['frequency'].to_list()"
   ]
  },
  {
   "cell_type": "code",
   "execution_count": null,
   "id": "24c0b44c",
   "metadata": {},
   "outputs": [],
   "source": [
    "df_out_loc_sel = df_out_loc[df_out_loc[\"obs_id\"] == 1095451432].reset_index(drop=True)\n",
    "df_out_loc_sel = df_out_loc_sel[df_out_loc_sel[[\"XX\", \"YY\"]].any(axis=1)].reset_index(drop=True)"
   ]
  },
  {
   "cell_type": "code",
   "execution_count": null,
   "id": "2d883223",
   "metadata": {},
   "outputs": [],
   "source": [
    "df_out_loc_sel"
   ]
  },
  {
   "cell_type": "code",
   "execution_count": null,
   "id": "98069161",
   "metadata": {},
   "outputs": [],
   "source": [
    "df_out_loc_sel[[\"XX\", \"YY\"]].isna()"
   ]
  },
  {
   "cell_type": "code",
   "execution_count": null,
   "id": "3005e0ea",
   "metadata": {},
   "outputs": [],
   "source": []
  },
  {
   "cell_type": "code",
   "execution_count": null,
   "id": "083d8703",
   "metadata": {},
   "outputs": [],
   "source": []
  }
 ],
 "metadata": {
  "kernelspec": {
   "display_name": "Python 3",
   "language": "python",
   "name": "python3"
  },
  "language_info": {
   "codemirror_mode": {
    "name": "ipython",
    "version": 3
   },
   "file_extension": ".py",
   "mimetype": "text/x-python",
   "name": "python",
   "nbconvert_exporter": "python",
   "pygments_lexer": "ipython3",
   "version": "3.13.3"
  }
 },
 "nbformat": 4,
 "nbformat_minor": 5
}
